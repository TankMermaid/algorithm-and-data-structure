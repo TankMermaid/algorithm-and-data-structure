{
 "cells": [
  {
   "cell_type": "markdown",
   "metadata": {},
   "source": [
    "# fib"
   ]
  },
  {
   "cell_type": "code",
   "execution_count": 8,
   "metadata": {
    "collapsed": true
   },
   "outputs": [],
   "source": [
    "def stupid_fib(n):\n",
    "    if n <=1:\n",
    "        return n\n",
    "    else:\n",
    "        return stupid_fib(n-1) + stupid_fib(n-2)"
   ]
  },
  {
   "cell_type": "code",
   "execution_count": 12,
   "metadata": {
    "collapsed": false
   },
   "outputs": [
    {
     "name": "stdout",
     "output_type": "stream",
     "text": [
      "1 loop, best of 3: 273 ms per loop\n"
     ]
    }
   ],
   "source": [
    "%%timeit\n",
    "stupid_fib(30)"
   ]
  },
  {
   "cell_type": "code",
   "execution_count": 14,
   "metadata": {
    "collapsed": true
   },
   "outputs": [],
   "source": [
    "memo = {}\n",
    "\n",
    "def memo_fib(n):\n",
    "    if n in memo:\n",
    "        return memo[n]\n",
    "    elif n <=1:\n",
    "        return n\n",
    "    else:\n",
    "        res = memo_fib(n-1) + memo_fib(n-2)\n",
    "        memo[n] = res\n",
    "        return res"
   ]
  },
  {
   "cell_type": "code",
   "execution_count": 15,
   "metadata": {
    "collapsed": false
   },
   "outputs": [
    {
     "name": "stdout",
     "output_type": "stream",
     "text": [
      "The slowest run took 372.48 times longer than the fastest. This could mean that an intermediate result is being cached.\n",
      "10000000 loops, best of 3: 121 ns per loop\n"
     ]
    }
   ],
   "source": [
    "%%timeit\n",
    "memo_fib(30)"
   ]
  },
  {
   "cell_type": "code",
   "execution_count": 16,
   "metadata": {
    "collapsed": true
   },
   "outputs": [],
   "source": [
    "def buttom_fib(n):\n",
    "    n1, n2 = 0, 1\n",
    "    for _ in range(n):\n",
    "        n1, n2 = n1 + n2, n1\n",
    "    return n1"
   ]
  },
  {
   "cell_type": "code",
   "execution_count": 18,
   "metadata": {
    "collapsed": false
   },
   "outputs": [
    {
     "name": "stdout",
     "output_type": "stream",
     "text": [
      "The slowest run took 6.21 times longer than the fastest. This could mean that an intermediate result is being cached.\n",
      "100000 loops, best of 3: 1.47 µs per loop\n"
     ]
    }
   ],
   "source": [
    "%%timeit \n",
    "buttom_fib(30)"
   ]
  },
  {
   "cell_type": "markdown",
   "metadata": {},
   "source": [
    "# coin row\n",
    "no two consecutive coin could be picked at the same time, find the max value"
   ]
  },
  {
   "cell_type": "code",
   "execution_count": 21,
   "metadata": {
    "collapsed": true
   },
   "outputs": [],
   "source": [
    "def coin(r):\n",
    "    if len(r) == 0:\n",
    "        return 0\n",
    "    elif len(r) == 1:\n",
    "        return r[0]\n",
    "    else:\n",
    "        return max(r[-1] + coin(r[:-2]), coin(r[:-1]))"
   ]
  },
  {
   "cell_type": "code",
   "execution_count": 23,
   "metadata": {
    "collapsed": false
   },
   "outputs": [
    {
     "name": "stdout",
     "output_type": "stream",
     "text": [
      "The slowest run took 4.14 times longer than the fastest. This could mean that an intermediate result is being cached.\n",
      "100000 loops, best of 3: 8.9 µs per loop\n"
     ]
    }
   ],
   "source": [
    "%%timeit\n",
    "coin([5,1,2,10,6,2])"
   ]
  },
  {
   "cell_type": "code",
   "execution_count": 24,
   "metadata": {
    "collapsed": true
   },
   "outputs": [],
   "source": [
    "def coin_buttom(r):\n",
    "    dp = [0 for _ in range(len(r)+1)]\n",
    "    r = [0] + r\n",
    "    \n",
    "    dp[1] = r[1]\n",
    "    \n",
    "    for i in range(2, len(r)):\n",
    "        dp[i] = max(dp[i-2] + r[i], dp[i-1])\n",
    "    \n",
    "    return dp[-1]"
   ]
  },
  {
   "cell_type": "code",
   "execution_count": 25,
   "metadata": {
    "collapsed": false
   },
   "outputs": [
    {
     "name": "stdout",
     "output_type": "stream",
     "text": [
      "100000 loops, best of 3: 8.86 µs per loop\n"
     ]
    }
   ],
   "source": [
    "%%timeit\n",
    "coin([5,1,2,10,6,2])"
   ]
  },
  {
   "cell_type": "code",
   "execution_count": null,
   "metadata": {
    "collapsed": true
   },
   "outputs": [],
   "source": []
  }
 ],
 "metadata": {
  "anaconda-cloud": {},
  "kernelspec": {
   "display_name": "Python [default]",
   "language": "python",
   "name": "python3"
  },
  "language_info": {
   "codemirror_mode": {
    "name": "ipython",
    "version": 3
   },
   "file_extension": ".py",
   "mimetype": "text/x-python",
   "name": "python",
   "nbconvert_exporter": "python",
   "pygments_lexer": "ipython3",
   "version": "3.5.2"
  }
 },
 "nbformat": 4,
 "nbformat_minor": 1
}

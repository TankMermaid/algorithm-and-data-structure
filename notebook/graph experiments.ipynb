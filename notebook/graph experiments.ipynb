{
 "cells": [
  {
   "cell_type": "code",
   "execution_count": 15,
   "metadata": {
    "collapsed": true
   },
   "outputs": [],
   "source": [
    "%reload_ext autoreload\n",
    "%autoreload 2\n",
    "\n",
    "import sys\n",
    "sys.path.append('..')\n",
    "\n",
    "from graph import *"
   ]
  },
  {
   "cell_type": "markdown",
   "metadata": {},
   "source": [
    "<img style=\"float: left;\" src=\"./graph.png\">"
   ]
  },
  {
   "cell_type": "code",
   "execution_count": 16,
   "metadata": {
    "collapsed": false
   },
   "outputs": [
    {
     "data": {
      "text/plain": [
       "{1: {2, 3},\n",
       " 2: {3, 4, 5},\n",
       " 3: {1, 2, 5, 7, 8},\n",
       " 4: {2, 5},\n",
       " 5: {2, 3, 4, 6},\n",
       " 6: {5},\n",
       " 7: {3, 8},\n",
       " 8: {3, 7},\n",
       " 9: {10},\n",
       " 10: {9},\n",
       " 11: {12},\n",
       " 12: {11, 13},\n",
       " 13: {12}}"
      ]
     },
     "execution_count": 16,
     "metadata": {},
     "output_type": "execute_result"
    }
   ],
   "source": [
    "# adjacency list implemented with dict and set\n",
    "node_input =[(1, {2, 3}),(2, {3, 4, 5}), (3, {1, 2, 5, 7, 8}), (4, {2, 5}), (5, {2, 3, 4, 6}), (6, {5}), (7, {3,8}), (8, {3, 7}), (9, {10}), (10, {9}), (11, {12}),(12, {11,13}), (13, {12})]\n",
    "adj = dict(node_input)\n",
    "adj"
   ]
  },
  {
   "cell_type": "markdown",
   "metadata": {},
   "source": [
    "# BFS"
   ]
  },
  {
   "cell_type": "code",
   "execution_count": 17,
   "metadata": {
    "collapsed": false
   },
   "outputs": [
    {
     "data": {
      "text/plain": [
       "({1: None, 2: 1, 3: 1, 4: 2, 5: 2, 6: 5, 7: 3, 8: 3},\n",
       " {1: 0, 2: 1, 3: 1, 4: 2, 5: 2, 6: 3, 7: 2, 8: 2})"
      ]
     },
     "execution_count": 17,
     "metadata": {},
     "output_type": "execute_result"
    }
   ],
   "source": [
    "BFS(adj, 1)"
   ]
  },
  {
   "cell_type": "markdown",
   "metadata": {},
   "source": [
    "see you can't reach 9-10 and 11-12-13 because you start from 1, and they are divided"
   ]
  },
  {
   "cell_type": "code",
   "execution_count": 19,
   "metadata": {
    "collapsed": false
   },
   "outputs": [
    {
     "data": {
      "text/plain": [
       "({1: None, 2: 1, 3: 1, 4: 2, 5: 2, 6: 5, 7: 3, 8: 3},\n",
       " {1: 0, 2: 1, 3: 1, 4: 2, 5: 2, 6: 3, 7: 2, 8: 2})"
      ]
     },
     "execution_count": 19,
     "metadata": {},
     "output_type": "execute_result"
    }
   ],
   "source": [
    "BFS_q(adj, 1)"
   ]
  },
  {
   "cell_type": "code",
   "execution_count": null,
   "metadata": {
    "collapsed": true
   },
   "outputs": [],
   "source": []
  }
 ],
 "metadata": {
  "kernelspec": {
   "display_name": "Python [default]",
   "language": "python",
   "name": "python3"
  },
  "language_info": {
   "codemirror_mode": {
    "name": "ipython",
    "version": 3
   },
   "file_extension": ".py",
   "mimetype": "text/x-python",
   "name": "python",
   "nbconvert_exporter": "python",
   "pygments_lexer": "ipython3",
   "version": "3.5.2"
  }
 },
 "nbformat": 4,
 "nbformat_minor": 1
}

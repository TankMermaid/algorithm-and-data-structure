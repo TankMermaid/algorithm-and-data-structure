{
 "cells": [
  {
   "cell_type": "code",
   "execution_count": 1,
   "metadata": {
    "collapsed": true
   },
   "outputs": [],
   "source": [
    "%reload_ext autoreload\n",
    "%autoreload 2\n",
    "\n",
    "import sys\n",
    "sys.path.append('..')\n",
    "\n",
    "import graph as g"
   ]
  },
  {
   "cell_type": "markdown",
   "metadata": {},
   "source": [
    "<img style=\"float: left;\" src=\"./graph.png\">"
   ]
  },
  {
   "cell_type": "code",
   "execution_count": 2,
   "metadata": {
    "collapsed": false
   },
   "outputs": [
    {
     "data": {
      "text/plain": [
       "{1: {2, 3},\n",
       " 2: {3, 4, 5},\n",
       " 3: {1, 2, 5, 7, 8},\n",
       " 4: {2, 5},\n",
       " 5: {2, 3, 4, 6},\n",
       " 6: {5},\n",
       " 7: {3, 8},\n",
       " 8: {3, 7},\n",
       " 9: {10},\n",
       " 10: {9},\n",
       " 11: {12},\n",
       " 12: {11, 13},\n",
       " 13: {12}}"
      ]
     },
     "execution_count": 2,
     "metadata": {},
     "output_type": "execute_result"
    }
   ],
   "source": [
    "# adjacency list implemented with dict and set\n",
    "node_input =[(1, {2, 3}),(2, {3, 4, 5}), (3, {1, 2, 5, 7, 8}), (4, {2, 5}), (5, {2, 3, 4, 6}), (6, {5}), (7, {3,8}), (8, {3, 7}), (9, {10}), (10, {9}), (11, {12}),(12, {11,13}), (13, {12})]\n",
    "adj = dict(node_input)\n",
    "adj"
   ]
  },
  {
   "cell_type": "markdown",
   "metadata": {},
   "source": [
    "[What are the advantages of using BFS over DFS or using DFS over BFS? ](https://www.quora.com/What-are-the-advantages-of-using-BFS-over-DFS-or-using-DFS-over-BFS-What-are-the-applications-and-downsides-of-each)\n",
    "# BFS\n",
    "* pros\n",
    "  * find shortest path from source to any reachable node\n",
    "  * because it explore the graph layer by layer, so you could set a stopping point to stop search\n",
    "  * iterative definition, iterative process"
   ]
  },
  {
   "cell_type": "code",
   "execution_count": 3,
   "metadata": {
    "collapsed": false
   },
   "outputs": [
    {
     "data": {
      "text/plain": [
       "{'distance': {1: 0, 2: 1, 3: 1, 4: 2, 5: 2, 6: 3, 7: 2, 8: 2},\n",
       " 'parent': {1: None, 2: 1, 3: 1, 4: 2, 5: 2, 6: 5, 7: 3, 8: 3}}"
      ]
     },
     "execution_count": 3,
     "metadata": {},
     "output_type": "execute_result"
    }
   ],
   "source": [
    "g.BFS_source(adj, 1)"
   ]
  },
  {
   "cell_type": "markdown",
   "metadata": {},
   "source": [
    "see you can't reach 9-10 and 11-12-13 because you start from 1, and they are divided"
   ]
  },
  {
   "cell_type": "code",
   "execution_count": 4,
   "metadata": {
    "collapsed": false
   },
   "outputs": [
    {
     "data": {
      "text/plain": [
       "{'distance': {1: 0, 2: 1, 3: 1, 4: 2, 5: 2, 6: 3, 7: 2, 8: 2},\n",
       " 'parent': {1: None, 2: 1, 3: 1, 4: 2, 5: 2, 6: 5, 7: 3, 8: 3}}"
      ]
     },
     "execution_count": 4,
     "metadata": {},
     "output_type": "execute_result"
    }
   ],
   "source": [
    "g.BFS_source_q(adj, 1)"
   ]
  },
  {
   "cell_type": "code",
   "execution_count": 5,
   "metadata": {
    "collapsed": false
   },
   "outputs": [
    {
     "data": {
      "text/plain": [
       "{'distance_list': [{1: 0, 2: 1, 3: 1, 4: 2, 5: 2, 6: 3, 7: 2, 8: 2},\n",
       "  {9: 0, 10: 1},\n",
       "  {11: 0, 12: 1, 13: 2}],\n",
       " 'parent_list': [{1: None, 2: 1, 3: 1, 4: 2, 5: 2, 6: 5, 7: 3, 8: 3},\n",
       "  {9: None, 10: 9},\n",
       "  {11: None, 12: 11, 13: 12}],\n",
       " 'seen': [1, 2, 3, 4, 5, 6, 7, 8, 9, 10, 11, 12, 13]}"
      ]
     },
     "execution_count": 5,
     "metadata": {},
     "output_type": "execute_result"
    }
   ],
   "source": [
    "g.BFS(adj)"
   ]
  },
  {
   "cell_type": "markdown",
   "metadata": {},
   "source": [
    "# DFS"
   ]
  },
  {
   "cell_type": "code",
   "execution_count": 6,
   "metadata": {
    "collapsed": false
   },
   "outputs": [
    {
     "data": {
      "text/plain": [
       "{1: None, 2: 1, 3: 2, 4: 5, 5: 3, 6: 5, 7: 8, 8: 3}"
      ]
     },
     "execution_count": 6,
     "metadata": {},
     "output_type": "execute_result"
    }
   ],
   "source": [
    "g.DFS_source(adj, 1)"
   ]
  },
  {
   "cell_type": "code",
   "execution_count": 7,
   "metadata": {
    "collapsed": false
   },
   "outputs": [
    {
     "data": {
      "text/plain": [
       "{1: None,\n",
       " 2: 1,\n",
       " 3: 2,\n",
       " 4: 5,\n",
       " 5: 3,\n",
       " 6: 5,\n",
       " 7: 8,\n",
       " 8: 3,\n",
       " 9: None,\n",
       " 10: 9,\n",
       " 11: None,\n",
       " 12: 11,\n",
       " 13: 12}"
      ]
     },
     "execution_count": 7,
     "metadata": {},
     "output_type": "execute_result"
    }
   ],
   "source": [
    "g.DFS(adj)"
   ]
  },
  {
   "cell_type": "code",
   "execution_count": null,
   "metadata": {
    "collapsed": true
   },
   "outputs": [],
   "source": []
  }
 ],
 "metadata": {
  "anaconda-cloud": {},
  "kernelspec": {
   "display_name": "Python [default]",
   "language": "python",
   "name": "python3"
  },
  "language_info": {
   "codemirror_mode": {
    "name": "ipython",
    "version": 3
   },
   "file_extension": ".py",
   "mimetype": "text/x-python",
   "name": "python",
   "nbconvert_exporter": "python",
   "pygments_lexer": "ipython3",
   "version": "3.5.2"
  }
 },
 "nbformat": 4,
 "nbformat_minor": 1
}
